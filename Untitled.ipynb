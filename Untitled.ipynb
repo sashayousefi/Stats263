{
 "cells": [
  {
   "cell_type": "markdown",
   "id": "a1cb84ca",
   "metadata": {},
   "source": [
    "## PROBLEM SET 5"
   ]
  },
  {
   "cell_type": "code",
   "execution_count": 7,
   "id": "cf4c0236",
   "metadata": {},
   "outputs": [],
   "source": [
    "import numpy as np\n",
    "import pandas as pd\n",
    "from scipy.linalg import hadamard\n",
    "from math import comb\n",
    "from matplotlib import pyplot as plt"
   ]
  },
  {
   "cell_type": "markdown",
   "id": "a832f6bd",
   "metadata": {},
   "source": [
    "### PART 1"
   ]
  },
  {
   "cell_type": "code",
   "execution_count": 8,
   "id": "c78d06f2",
   "metadata": {},
   "outputs": [],
   "source": [
    "n = 2**9"
   ]
  },
  {
   "cell_type": "code",
   "execution_count": 9,
   "id": "721abd1f",
   "metadata": {},
   "outputs": [],
   "source": [
    "hada_matrix = hadamard(n)"
   ]
  },
  {
   "cell_type": "code",
   "execution_count": 10,
   "id": "60feb831",
   "metadata": {},
   "outputs": [],
   "source": [
    "def compute_Q(score, p, num):\n",
    "    Q = 0\n",
    "    if num < 3:\n",
    "        for j in np.arange(0, p - 1):\n",
    "            for j_prime in np.arange(j+1, p):\n",
    "                Q += score[j, j_prime] ** num\n",
    "        return Q / comb(p, 2)\n",
    "    else:\n",
    "        for j in np.arange(0, p - 1):\n",
    "            for j_prime in np.arange(j+1, p):\n",
    "                Q = max(Q, score[j, j_prime])\n",
    "        return Q"
   ]
  },
  {
   "cell_type": "code",
   "execution_count": 11,
   "id": "9079c62f",
   "metadata": {},
   "outputs": [],
   "source": [
    "def lin_design(matrix, set_size, nsims, num_cols):\n",
    "    Q1, Q2, Q3 = [], [], []\n",
    "    for i in np.arange(nsims):\n",
    "        smol_matrix = matrix\n",
    "        idx = list(np.random.choice(a = np.arange(1, set_size), size = num_cols))\n",
    "        for i in idx:\n",
    "            smol_matrix = smol_matrix[smol_matrix[:,i] == 1]\n",
    "        smol_matrix = np.delete(smol_matrix, [0] + idx, axis = 1)\n",
    "        n_prime = smol_matrix.shape[0]\n",
    "        score = np.abs((1/n_prime) * np.matmul(np.transpose(smol_matrix), smol_matrix))\n",
    "        p = smol_matrix.shape[1]\n",
    "        Q1.append(compute_Q(score, p, 1))\n",
    "        Q2.append(compute_Q(score, p, 2))\n",
    "        Q3.append(compute_Q(score, p, 3))\n",
    "    return Q1, Q2, Q3"
   ]
  },
  {
   "cell_type": "markdown",
   "id": "7872c95f",
   "metadata": {},
   "source": [
    "### Run lin approach with 1/2 of the data"
   ]
  },
  {
   "cell_type": "code",
   "execution_count": 12,
   "id": "7619f8be",
   "metadata": {},
   "outputs": [],
   "source": [
    "Q1, Q2, Q3 = lin_design(hada_matrix, n, 100, 1)"
   ]
  },
  {
   "cell_type": "code",
   "execution_count": 13,
   "id": "9422e46f",
   "metadata": {},
   "outputs": [],
   "source": [
    "def sampling_design(matrix, size, nsims, num_samp):\n",
    "    Q1, Q2, Q3 = [], [], []\n",
    "    for i in np.arange(nsims):\n",
    "        rows_id = np.random.choice(range(1,n), size = int(n/num_samp), replace = False)\n",
    "        rows_id.sort()\n",
    "        smol_matrix = matrix[rows_id, :]\n",
    "        smol_matrix = np.delete(smol_matrix, 0, axis=1)\n",
    "        n_prime = smol_matrix.shape[0]\n",
    "        score = np.abs((1/n_prime) * np.matmul(np.transpose(smol_matrix), smol_matrix))\n",
    "        Q1.append(compute_Q(score, n - 1, 1))\n",
    "        Q2.append(compute_Q(score, n - 1, 2))\n",
    "        Q3.append(compute_Q(score, n - 1, 3))\n",
    "    return Q1, Q2, Q3"
   ]
  },
  {
   "cell_type": "markdown",
   "id": "ebc5fad5",
   "metadata": {},
   "source": [
    "### Run sampling approach with 1/2 of the data"
   ]
  },
  {
   "cell_type": "code",
   "execution_count": 14,
   "id": "56e595a3",
   "metadata": {},
   "outputs": [],
   "source": [
    "Q1_samp, Q2_samp, Q3_samp = sampling_design(hada_matrix, n,100, 2)"
   ]
  },
  {
   "cell_type": "markdown",
   "id": "a4dcd368",
   "metadata": {},
   "source": [
    "### Overlayed graphs"
   ]
  },
  {
   "cell_type": "code",
   "execution_count": 28,
   "id": "8df31c97",
   "metadata": {},
   "outputs": [
    {
     "data": {
      "image/png": "[encoded data removed]",
      "text/plain": [
       "<Figure size 2000x500 with 3 Axes>"
      ]
     },
     "metadata": {},
     "output_type": "display_data"
    }
   ],
   "source": [
    "fig, (ax1, ax2, ax3) = plt.subplots(1, 3, figsize = (20, 5))\n",
    "bins = np.linspace(0, .04, 100)\n",
    "bins2 = np.linspace(0.00195, .0020, 50)\n",
    "ax1.hist(Q1, bins = bins);\n",
    "ax1.hist(Q1_samp, bins = bins)\n",
    "ax1.set_title('Q1')\n",
    "ax1.legend(['Lin', 'Sampling'])\n",
    "ax2.hist(Q2, alpha = 0.5, bins = bins2);\n",
    "ax2.hist(Q2_samp, alpha = 0.5, bins = bins2)\n",
    "ax2.set_title('Q2')\n",
    "ax2.legend(['Lin', 'Sampling'])\n",
    "ax3.hist(Q3);\n",
    "ax3.hist(Q3_samp)\n",
    "ax3.set_title('Q3');\n",
    "ax3.legend(['Lin', 'Sampling'])\n",
    "\n",
    "for ax in (ax1, ax2, ax3):\n",
    "    ax.set(xlabel='Q-value', ylabel='nsim')"
   ]
  },
  {
   "cell_type": "markdown",
   "id": "dfb193cb",
   "metadata": {},
   "source": [
    "### Which method seems to work better?"
   ]
  },
  {
   "cell_type": "markdown",
   "id": "f5fbcbf0",
   "metadata": {},
   "source": [
    "To evaluate our approach, we calculate three metrics, Q1, Q2, and Q_inf. We want to minimize all three criteria since a smaller Q indicates a greater degree of orthogonality among the columns, which is the desired property for supersaturated designs. For the Lin approach, the Q1, Q2, and Q_inf values were constant and equal to 0.00196, 0.00196, and 1 respectively. For the Downsampling approach, the Q1 and Q_inf values were variable with means of 0.03518 and 0.1417 respectively, wheras the Q2 value was constant and equal to 0.00195 (which is very slightly lower than the Lin Q2 value). Thus, we can see that the Lin approach outperforms the Downsampling approach for metric Q1, but the Downsampling approach outperforms the Lin approach for metrics Q2 and Q_inf. Therefore, Downsampling outperforms Lin for 2/3 of the criteria."
   ]
  },
  {
   "cell_type": "markdown",
   "id": "98b7b68a",
   "metadata": {},
   "source": [
    "### Part 2"
   ]
  },
  {
   "cell_type": "markdown",
   "id": "545cc69e",
   "metadata": {},
   "source": [
    "### Run lin approach with 1/16 of the data"
   ]
  },
  {
   "cell_type": "code",
   "execution_count": 37,
   "id": "1afc551c",
   "metadata": {},
   "outputs": [],
   "source": [
    "Q1, Q2, Q3 = lin_design(hada_matrix, n, 100, 4)"
   ]
  },
  {
   "cell_type": "markdown",
   "id": "5e1d3177",
   "metadata": {},
   "source": [
    "### Run sampling approach with 1/16 of the data"
   ]
  },
  {
   "cell_type": "code",
   "execution_count": 38,
   "id": "39ea5f64",
   "metadata": {},
   "outputs": [],
   "source": [
    "Q1_samp, Q2_samp, Q3_samp = sampling_design(hada_matrix, n,100, 16)"
   ]
  },
  {
   "cell_type": "markdown",
   "id": "881b8bd9",
   "metadata": {},
   "source": [
    "### Overlayed Graphs"
   ]
  },
  {
   "cell_type": "code",
   "execution_count": 39,
   "id": "32f6e2ff",
   "metadata": {},
   "outputs": [
    {
     "data": {
      "image/png": "[encoded data removed]",
      "text/plain": [
       "<Figure size 2000x500 with 3 Axes>"
      ]
     },
     "metadata": {},
     "output_type": "display_data"
    }
   ],
   "source": [
    "fig, (ax1, ax2, ax3) = plt.subplots(1, 3, figsize = (20, 5))\n",
    "bins = np.linspace(0.01, .03, 100)\n",
    "ax1.hist(Q1);\n",
    "ax1.hist(Q1_samp)\n",
    "ax1.set_title('Q1')\n",
    "ax1.legend(['Lin', 'Sampling'])\n",
    "ax2.hist(Q2, alpha = 0.5, bins = bins)\n",
    "ax2.hist(Q2_samp, alpha = 0.5, bins = bins)\n",
    "ax2.set_title('Q2')\n",
    "ax2.legend(['Lin', 'Sampling'])\n",
    "ax3.hist(Q3);\n",
    "ax3.hist(Q3_samp)\n",
    "ax3.set_title('Q3');\n",
    "ax3.legend(['Lin', 'Sampling'])\n",
    "for ax in (ax1, ax2, ax3):\n",
    "    ax.set(xlabel='Q-value', ylabel='nsim')"
   ]
  },
  {
   "cell_type": "markdown",
   "id": "9ed9229f",
   "metadata": {},
   "source": [
    "### Which method seems to work better?"
   ]
  },
  {
   "cell_type": "code",
   "execution_count": 59,
   "id": "5d66b1aa",
   "metadata": {},
   "outputs": [
    {
     "data": {
      "text/plain": [
       "0.029273025975946478"
      ]
     },
     "execution_count": 59,
     "metadata": {},
     "output_type": "execute_result"
    }
   ],
   "source": [
    "np.mean(Q2)"
   ]
  },
  {
   "cell_type": "markdown",
   "id": "8c2468a2",
   "metadata": {},
   "source": [
    "To evaluate our approach, we calculate three metrics, Q1, Q2, and Q_inf. We want to minimize all three criteria since a smaller Q indicates a greater degree of orthogonality among the columns, which is the desired property for supersaturated designs. For the Lin approach, the Q1 and Q2 values were constant in two values, [0.01374458, 0.02942988] and [0.01374458, 0.02942988] respectively, with counts heavily concentrated at the second value. Additionally, for the Lin approach, Q3 was constant and at value 1. For the Downsampling approach, the Q1 and Q_inf values were variable with means of 0.1355 and 0.5456 respectively, wheras the Q2 value was constant and equal to 0.02935 (which is slightly lower than the concentrated Lin Q2 value). Thus, we can see that the Lin approach outperforms the Downsampling approach for metric Q1. The Lin approach is slightly worse than the Downsampling approach for metric Q2 (except for a few exceptions). The Downsampling approach outperforms the Lin approach for metric Q_inf. "
   ]
  },
  {
   "cell_type": "code",
   "execution_count": null,
   "id": "25a3b275",
   "metadata": {},
   "outputs": [],
   "source": []
  }
 ],
 "metadata": {
  "kernelspec": {
   "display_name": "Python 3 (ipykernel)",
   "language": "python",
   "name": "python3"
  },
  "language_info": {
   "codemirror_mode": {
    "name": "ipython",
    "version": 3
   },
   "file_extension": ".py",
   "mimetype": "text/x-python",
   "name": "python",
   "nbconvert_exporter": "python",
   "pygments_lexer": "ipython3",
   "version": "3.8.13"
  }
 },
 "nbformat": 4,
 "nbformat_minor": 5
}
