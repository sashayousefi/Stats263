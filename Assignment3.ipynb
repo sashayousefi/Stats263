{
 "cells": [
  {
   "cell_type": "markdown",
   "metadata": {
    "id": "0YB7O_mF27n6"
   },
   "source": [
    "## Question 1"
   ]
  },
  {
   "cell_type": "code",
   "execution_count": 1,
   "metadata": {
    "id": "Juv9Klj2QMB6"
   },
   "outputs": [],
   "source": [
    "import numpy as np\n",
    "import pandas as pd\n",
    "from scipy.stats import f, ncf, t\n",
    "import matplotlib.pyplot as plt"
   ]
  },
  {
   "cell_type": "code",
   "execution_count": 2,
   "metadata": {
    "id": "JAEf4pkjQVvr"
   },
   "outputs": [],
   "source": [
    "N = 4\n",
    "k = 3\n",
    "sigma2 = 1\n",
    "SSA = 2\n",
    "nc = N/sigma2 * SSA\n",
    "dfn = k - 1\n",
    "dfd =  k*(N-1)\n",
    "thresh = 0.01"
   ]
  },
  {
   "cell_type": "markdown",
   "metadata": {
    "id": "Yu-i40Ssq1iV"
   },
   "source": [
    "## Part A"
   ]
  },
  {
   "cell_type": "code",
   "execution_count": 4,
   "metadata": {
    "id": "4rV5uCwNWb9D"
   },
   "outputs": [],
   "source": [
    "def power(dfn, dfd, nc, thresh):\n",
    "  central_F = f.ppf(1 - thresh, dfn, dfd)\n",
    "  power = 1 - ncf.cdf(central_F, dfn, dfd, nc)\n",
    "  return power"
   ]
  },
  {
   "cell_type": "code",
   "execution_count": 5,
   "metadata": {
    "colab": {
     "base_uri": "https://localhost:8080/",
     "height": 0
    },
    "id": "GUZh0Mr7WdAx",
    "outputId": "dacfd265-a815-46b5-acc3-63a047f74f55"
   },
   "outputs": [
    {
     "name": "stdout",
     "output_type": "stream",
     "text": [
      "The power for the one way ANOVA with N = 4, k = 3, p-val = 0.01 is: 0.2569168496761982\n"
     ]
    }
   ],
   "source": [
    "pow = power(dfn, dfd, nc, thresh)\n",
    "print(\"The power for the one way ANOVA with N = {}, k = {}, p-val = {} is: {}\".format(N, k, thresh, pow))"
   ]
  },
  {
   "cell_type": "markdown",
   "metadata": {
    "id": "k9nd0soErLVJ"
   },
   "source": [
    "## Part B"
   ]
  },
  {
   "cell_type": "code",
   "execution_count": 6,
   "metadata": {
    "id": "YuOYfCsboOWY"
   },
   "outputs": [],
   "source": [
    "pow = 0\n",
    "N = 1\n",
    "while pow < 0.8:\n",
    "  N += 1\n",
    "  nc = N/sigma2 * SSA\n",
    "  dfd =  k*(N-1)\n",
    "  pow = power(dfn, dfd, nc, thresh)"
   ]
  },
  {
   "cell_type": "code",
   "execution_count": 7,
   "metadata": {
    "colab": {
     "base_uri": "https://localhost:8080/",
     "height": 0
    },
    "id": "lXxl-k-vrxVN",
    "outputId": "75e443a8-2d77-426c-e863-54eae683d7b3"
   },
   "outputs": [
    {
     "name": "stdout",
     "output_type": "stream",
     "text": [
      "The smallest n that would give us a power of at least 80% is N = 9 with power = 0.8298954820168323\n"
     ]
    }
   ],
   "source": [
    "print(\"The smallest n that would give us a power of at least 80% is N = {} with power = {}\".format(N, pow))"
   ]
  },
  {
   "cell_type": "markdown",
   "metadata": {
    "id": "Jws9AaLyuk4W"
   },
   "source": [
    "## Part C"
   ]
  },
  {
   "cell_type": "code",
   "execution_count": 8,
   "metadata": {
    "id": "VwIF-ekqsO6-"
   },
   "outputs": [],
   "source": [
    "#params\n",
    "k = 6\n",
    "N = 10\n",
    "sigma2 = 1\n",
    "dfn = k - 1\n",
    "dfd =  k*(N-1)\n",
    "thresh = 0.01\n",
    "\n",
    "#trial and error until we get a 0.8 power since there is no closed form solution to get SSA \n",
    "SSA = 0.4\n",
    "nc = N/sigma2 * SSA"
   ]
  },
  {
   "cell_type": "code",
   "execution_count": 9,
   "metadata": {
    "id": "fIeEXApvvquD"
   },
   "outputs": [],
   "source": [
    "pow = 0\n",
    "SSA = 0\n",
    "while pow < 0.8:\n",
    "  SSA += 0.000001\n",
    "  nc = N/sigma2 * SSA\n",
    "  pow = power(dfn, dfd, nc, thresh)"
   ]
  },
  {
   "cell_type": "code",
   "execution_count": 10,
   "metadata": {
    "colab": {
     "base_uri": "https://localhost:8080/",
     "height": 0
    },
    "id": "OtAWzuyHxkku",
    "outputId": "9dc2d791-cdb9-4964-e3c2-6309e2b349ea"
   },
   "outputs": [
    {
     "data": {
      "text/plain": [
       "(0.8000000155255544, 2.0536479999331503)"
      ]
     },
     "execution_count": 10,
     "metadata": {},
     "output_type": "execute_result"
    }
   ],
   "source": [
    "pow, SSA"
   ]
  },
  {
   "cell_type": "code",
   "execution_count": 11,
   "metadata": {
    "id": "rzngROZpx_04"
   },
   "outputs": [],
   "source": [
    "#get difference\n",
    "a = [1, -1/5, -1/5, -1/5, -1/5, -1/5]\n",
    "a2 = [i**2 for i in a]\n",
    "alpha1 = np.sqrt(SSA/(np.sum(a2)))\n",
    "alpha2 = -1/5 * alpha1\n",
    "diff = alpha1 - alpha2"
   ]
  },
  {
   "cell_type": "code",
   "execution_count": 12,
   "metadata": {
    "colab": {
     "base_uri": "https://localhost:8080/",
     "height": 0
    },
    "id": "nhK1h2G72PFz",
    "outputId": "86d27b4f-8ea8-47e3-9eda-725b3a4d857a"
   },
   "outputs": [
    {
     "name": "stdout",
     "output_type": "stream",
     "text": [
      "Max1⩽i⩽6 αi − min1⩽i⩽6 αi is = 1.5698336217318638 for us to get 80.00000155255545% power\n"
     ]
    }
   ],
   "source": [
    "print(\"Max1⩽i⩽6 αi − min1⩽i⩽6 αi is = {} for us to get {}% power\".format(diff, pow * 100))"
   ]
  },
  {
   "cell_type": "markdown",
   "metadata": {
    "id": "sqHrRCms8Pz_"
   },
   "source": [
    "Can we get exactly 80% power?"
   ]
  },
  {
   "cell_type": "markdown",
   "metadata": {
    "id": "WJwu5Ido8RhV"
   },
   "source": [
    "We theoretically can get 80% power. "
   ]
  },
  {
   "cell_type": "markdown",
   "metadata": {
    "id": "3lqvexNn3cIo"
   },
   "source": [
    "## PART D"
   ]
  },
  {
   "cell_type": "code",
   "execution_count": 14,
   "metadata": {
    "id": "37Zi7OJy3rF6"
   },
   "outputs": [],
   "source": [
    "#get difference\n",
    "a = [1, 1, 1, -1, -1, -1]\n",
    "a2 = [i**2 for i in a]\n",
    "alpha1 = np.sqrt(SSA/(np.sum(a2)))\n",
    "alpha4 = -alpha1\n",
    "diff = alpha1 - alpha4"
   ]
  },
  {
   "cell_type": "code",
   "execution_count": 15,
   "metadata": {
    "colab": {
     "base_uri": "https://localhost:8080/",
     "height": 0
    },
    "id": "uMXAlD9u6Hoa",
    "outputId": "243c4ef9-1aee-4add-8b3a-1195627f3334"
   },
   "outputs": [
    {
     "name": "stdout",
     "output_type": "stream",
     "text": [
      "Max1⩽i⩽6 αi − min1⩽i⩽6 αi is = 1.1700848971857127 for us to get 80.00000155255545% power\n"
     ]
    }
   ],
   "source": [
    "print(\"Max1⩽i⩽6 αi − min1⩽i⩽6 αi is = {} for us to get {}% power\".format(diff, pow * 100))"
   ]
  },
  {
   "cell_type": "markdown",
   "metadata": {
    "id": "OJU5fKxV7x6o"
   },
   "source": [
    "## QUESTION 3\n",
    "\n",
    "\n"
   ]
  },
  {
   "cell_type": "markdown",
   "metadata": {
    "id": "DhWkF-0cRojm"
   },
   "source": [
    "## Part A"
   ]
  },
  {
   "cell_type": "code",
   "execution_count": 16,
   "metadata": {
    "id": "BiEGZY5G7FxQ"
   },
   "outputs": [],
   "source": [
    "%load_ext rpy2.ipython"
   ]
  },
  {
   "cell_type": "code",
   "execution_count": 17,
   "metadata": {
    "colab": {
     "base_uri": "https://localhost:8080/",
     "height": 0
    },
    "id": "2HLPkDE7RYaG",
    "outputId": "845368e7-333e-485d-e4b5-90f66e315399"
   },
   "outputs": [
    {
     "name": "stdout",
     "output_type": "stream",
     "text": [
      "   anchor_type foam_density force\n",
      "1            a          low   190\n",
      "2            a          low   200\n",
      "3            a         high   241\n",
      "4            a         high   255\n",
      "5            b          low   185\n",
      "6            b          low   190\n",
      "7            b         high   230\n",
      "8            b         high   237\n",
      "9            c          low   210\n",
      "10           c          low   205\n",
      "11           c         high   256\n",
      "12           c         high   260\n"
     ]
    }
   ],
   "source": [
    "%%R\n",
    "foam_density <- c(rep(\"low\", 2), rep(\"high\", 2))\n",
    "anchor_type <- c(rep(\"a\", 4), rep(\"b\", 4), rep(\"c\", 4))\n",
    "force <- c(190, 200, 241, 255, 185, 190, 230, 237, 210, 205, 256, 260)\n",
    " \n",
    "my_data <- data.frame(anchor_type, foam_density, force)\n",
    "my_data"
   ]
  },
  {
   "cell_type": "code",
   "execution_count": 18,
   "metadata": {
    "colab": {
     "base_uri": "https://localhost:8080/",
     "height": 0
    },
    "id": "I9VmY01kRwM1",
    "outputId": "4e6a8649-c66b-466e-c2a3-4830015c04e5"
   },
   "outputs": [
    {
     "name": "stdout",
     "output_type": "stream",
     "text": [
      "             Df Sum Sq Mean Sq F value   Pr(>F)    \n",
      "anchor_type   2    990     495   17.17  0.00127 ** \n",
      "foam_density  1   7450    7450  258.38 2.25e-07 ***\n",
      "Residuals     8    231      29                     \n",
      "---\n",
      "Signif. codes:  0 ‘***’ 0.001 ‘**’ 0.01 ‘*’ 0.05 ‘.’ 0.1 ‘ ’ 1\n"
     ]
    }
   ],
   "source": [
    "%%R\n",
    "analysis <- aov(force ~ anchor_type + foam_density, data = my_data)\n",
    "summary(analysis)"
   ]
  },
  {
   "cell_type": "markdown",
   "metadata": {
    "id": "YoLm7o5fWEoF"
   },
   "source": [
    "## PART B"
   ]
  },
  {
   "cell_type": "code",
   "execution_count": 19,
   "metadata": {
    "colab": {
     "base_uri": "https://localhost:8080/",
     "height": 0
    },
    "id": "IeP4cvPgUFmo",
    "outputId": "ae72a4db-0c33-4a5b-cd41-972b82f7c0f9"
   },
   "outputs": [
    {
     "name": "stdout",
     "output_type": "stream",
     "text": [
      "   anchor_type foam_density  lab force\n",
      "1            a          low lab1   190\n",
      "2            a          low lab2   200\n",
      "3            a         high lab1   241\n",
      "4            a         high lab2   255\n",
      "5            b          low lab1   185\n",
      "6            b          low lab2   190\n",
      "7            b         high lab1   230\n",
      "8            b         high lab2   237\n",
      "9            c          low lab1   210\n",
      "10           c          low lab2   205\n",
      "11           c         high lab1   256\n",
      "12           c         high lab2   260\n"
     ]
    }
   ],
   "source": [
    "%%R\n",
    "foam_density <- c(rep(\"low\", 2), rep(\"high\", 2))\n",
    "anchor_type <- c(rep(\"a\", 4), rep(\"b\", 4), rep(\"c\", 4))\n",
    "lab <- c(rep(\"lab1\", 1), rep(\"lab2\", 1))\n",
    "force <- c(190, 200, 241, 255, 185, 190, 230, 237, 210, 205, 256, 260)\n",
    " \n",
    "my_data2 <- data.frame(anchor_type, foam_density, lab, force)\n",
    "my_data2"
   ]
  },
  {
   "cell_type": "code",
   "execution_count": 20,
   "metadata": {
    "colab": {
     "base_uri": "https://localhost:8080/",
     "height": 0
    },
    "id": "AZfhIYV-Vtib",
    "outputId": "41c8cc45-e17b-47db-ba5a-03f81ac4fbae"
   },
   "outputs": [
    {
     "name": "stdout",
     "output_type": "stream",
     "text": [
      "             Df Sum Sq Mean Sq F value   Pr(>F)    \n",
      "anchor_type   2    990     495  26.952 0.000515 ***\n",
      "foam_density  1   7450    7450 405.578 1.86e-07 ***\n",
      "lab           1    102     102   5.557 0.050534 .  \n",
      "Residuals     7    129      18                     \n",
      "---\n",
      "Signif. codes:  0 ‘***’ 0.001 ‘**’ 0.01 ‘*’ 0.05 ‘.’ 0.1 ‘ ’ 1\n"
     ]
    }
   ],
   "source": [
    "%%R\n",
    "analysis <- aov(force ~ anchor_type + foam_density + lab, data = my_data2)\n",
    "summary(analysis)"
   ]
  },
  {
   "cell_type": "markdown",
   "metadata": {
    "id": "FPTdKQ0CXQdN"
   },
   "source": [
    "## PART C"
   ]
  },
  {
   "cell_type": "code",
   "execution_count": 21,
   "metadata": {
    "colab": {
     "base_uri": "https://localhost:8080/",
     "height": 0
    },
    "id": "oywUfIlTWIBW",
    "outputId": "c5479a8b-64b1-4092-895d-6cd61483f40d"
   },
   "outputs": [
    {
     "name": "stdout",
     "output_type": "stream",
     "text": [
      "  anchor_type foam_density  lab force\n",
      "1           a          low lab1 195.0\n",
      "2           a         high lab2 248.0\n",
      "3           b          low lab1 187.5\n",
      "4           b         high lab2 233.5\n",
      "5           c          low lab1 207.5\n",
      "6           c         high lab2 258.0\n"
     ]
    }
   ],
   "source": [
    "%%R\n",
    "foam_density <- c(rep(\"low\", 1), rep(\"high\", 1))\n",
    "anchor_type <- c(rep(\"a\", 2), rep(\"b\", 2), rep(\"c\", 2))\n",
    "lab <- c(rep(\"lab1\", 1), rep(\"lab2\", 1))\n",
    "vec1 <- c(190, 200)\n",
    "vec2 <- c(241, 255)\n",
    "vec3 <- c(185, 190)\n",
    "vec4 <- c(230, 237)\n",
    "vec5 <- c(210, 205)\n",
    "vec6 <- c(256, 260)\n",
    "\n",
    "force <- c(mean(vec1), mean(vec2), mean(vec3), mean(vec4), mean(vec5), mean(vec6))\n",
    " \n",
    "my_data3 <- data.frame(anchor_type, foam_density, lab, force)\n",
    "my_data3"
   ]
  },
  {
   "cell_type": "code",
   "execution_count": 22,
   "metadata": {
    "colab": {
     "base_uri": "https://localhost:8080/",
     "height": 0
    },
    "id": "8A9hyRJGZBPu",
    "outputId": "a6164cbe-29ca-4f8f-9e4e-b9483737acc7"
   },
   "outputs": [
    {
     "name": "stdout",
     "output_type": "stream",
     "text": [
      "             Df Sum Sq Mean Sq F value  Pr(>F)   \n",
      "anchor_type   2    495     248   39.34 0.02479 * \n",
      "foam_density  1   3725    3725  592.06 0.00168 **\n",
      "Residuals     2     13       6                   \n",
      "---\n",
      "Signif. codes:  0 ‘***’ 0.001 ‘**’ 0.01 ‘*’ 0.05 ‘.’ 0.1 ‘ ’ 1\n"
     ]
    }
   ],
   "source": [
    "%%R\n",
    "analysis <- aov(force ~ anchor_type + foam_density + lab, data = my_data3)\n",
    "summary(analysis)"
   ]
  },
  {
   "cell_type": "markdown",
   "metadata": {
    "id": "9kvpk-70zSdP"
   },
   "source": [
    "## Question 2"
   ]
  },
  {
   "cell_type": "code",
   "execution_count": 4,
   "metadata": {
    "id": "Q6hCr5LtZLz3"
   },
   "outputs": [
    {
     "ename": "FileNotFoundError",
     "evalue": "[Errno 2] No such file or directory: 'data.txt'",
     "output_type": "error",
     "traceback": [
      "\u001b[0;31m---------------------------------------------------------------------------\u001b[0m",
      "\u001b[0;31mFileNotFoundError\u001b[0m                         Traceback (most recent call last)",
      "\u001b[0;32m/var/folders/8t/8cktvgcx67lfg5jj2ytt4wqh0000gn/T/ipykernel_88698/718464897.py\u001b[0m in \u001b[0;36m<module>\u001b[0;34m\u001b[0m\n\u001b[0;32m----> 1\u001b[0;31m \u001b[0mcatapult\u001b[0m \u001b[0;34m=\u001b[0m \u001b[0mpd\u001b[0m\u001b[0;34m.\u001b[0m\u001b[0mread_csv\u001b[0m\u001b[0;34m(\u001b[0m\u001b[0;34m'data.txt'\u001b[0m\u001b[0;34m,\u001b[0m \u001b[0mdelim_whitespace\u001b[0m \u001b[0;34m=\u001b[0m \u001b[0;32mTrue\u001b[0m\u001b[0;34m)\u001b[0m\u001b[0;34m\u001b[0m\u001b[0;34m\u001b[0m\u001b[0m\n\u001b[0m",
      "\u001b[0;32m~/anaconda3/lib/python3.8/site-packages/pandas/util/_decorators.py\u001b[0m in \u001b[0;36mwrapper\u001b[0;34m(*args, **kwargs)\u001b[0m\n\u001b[1;32m    309\u001b[0m                     \u001b[0mstacklevel\u001b[0m\u001b[0;34m=\u001b[0m\u001b[0mstacklevel\u001b[0m\u001b[0;34m,\u001b[0m\u001b[0;34m\u001b[0m\u001b[0;34m\u001b[0m\u001b[0m\n\u001b[1;32m    310\u001b[0m                 )\n\u001b[0;32m--> 311\u001b[0;31m             \u001b[0;32mreturn\u001b[0m \u001b[0mfunc\u001b[0m\u001b[0;34m(\u001b[0m\u001b[0;34m*\u001b[0m\u001b[0margs\u001b[0m\u001b[0;34m,\u001b[0m \u001b[0;34m**\u001b[0m\u001b[0mkwargs\u001b[0m\u001b[0;34m)\u001b[0m\u001b[0;34m\u001b[0m\u001b[0;34m\u001b[0m\u001b[0m\n\u001b[0m\u001b[1;32m    312\u001b[0m \u001b[0;34m\u001b[0m\u001b[0m\n\u001b[1;32m    313\u001b[0m         \u001b[0;32mreturn\u001b[0m \u001b[0mwrapper\u001b[0m\u001b[0;34m\u001b[0m\u001b[0;34m\u001b[0m\u001b[0m\n",
      "\u001b[0;32m~/anaconda3/lib/python3.8/site-packages/pandas/io/parsers/readers.py\u001b[0m in \u001b[0;36mread_csv\u001b[0;34m(filepath_or_buffer, sep, delimiter, header, names, index_col, usecols, squeeze, prefix, mangle_dupe_cols, dtype, engine, converters, true_values, false_values, skipinitialspace, skiprows, skipfooter, nrows, na_values, keep_default_na, na_filter, verbose, skip_blank_lines, parse_dates, infer_datetime_format, keep_date_col, date_parser, dayfirst, cache_dates, iterator, chunksize, compression, thousands, decimal, lineterminator, quotechar, quoting, doublequote, escapechar, comment, encoding, encoding_errors, dialect, error_bad_lines, warn_bad_lines, on_bad_lines, delim_whitespace, low_memory, memory_map, float_precision, storage_options)\u001b[0m\n\u001b[1;32m    676\u001b[0m     \u001b[0mkwds\u001b[0m\u001b[0;34m.\u001b[0m\u001b[0mupdate\u001b[0m\u001b[0;34m(\u001b[0m\u001b[0mkwds_defaults\u001b[0m\u001b[0;34m)\u001b[0m\u001b[0;34m\u001b[0m\u001b[0;34m\u001b[0m\u001b[0m\n\u001b[1;32m    677\u001b[0m \u001b[0;34m\u001b[0m\u001b[0m\n\u001b[0;32m--> 678\u001b[0;31m     \u001b[0;32mreturn\u001b[0m \u001b[0m_read\u001b[0m\u001b[0;34m(\u001b[0m\u001b[0mfilepath_or_buffer\u001b[0m\u001b[0;34m,\u001b[0m \u001b[0mkwds\u001b[0m\u001b[0;34m)\u001b[0m\u001b[0;34m\u001b[0m\u001b[0;34m\u001b[0m\u001b[0m\n\u001b[0m\u001b[1;32m    679\u001b[0m \u001b[0;34m\u001b[0m\u001b[0m\n\u001b[1;32m    680\u001b[0m \u001b[0;34m\u001b[0m\u001b[0m\n",
      "\u001b[0;32m~/anaconda3/lib/python3.8/site-packages/pandas/io/parsers/readers.py\u001b[0m in \u001b[0;36m_read\u001b[0;34m(filepath_or_buffer, kwds)\u001b[0m\n\u001b[1;32m    573\u001b[0m \u001b[0;34m\u001b[0m\u001b[0m\n\u001b[1;32m    574\u001b[0m     \u001b[0;31m# Create the parser.\u001b[0m\u001b[0;34m\u001b[0m\u001b[0;34m\u001b[0m\u001b[0;34m\u001b[0m\u001b[0m\n\u001b[0;32m--> 575\u001b[0;31m     \u001b[0mparser\u001b[0m \u001b[0;34m=\u001b[0m \u001b[0mTextFileReader\u001b[0m\u001b[0;34m(\u001b[0m\u001b[0mfilepath_or_buffer\u001b[0m\u001b[0;34m,\u001b[0m \u001b[0;34m**\u001b[0m\u001b[0mkwds\u001b[0m\u001b[0;34m)\u001b[0m\u001b[0;34m\u001b[0m\u001b[0;34m\u001b[0m\u001b[0m\n\u001b[0m\u001b[1;32m    576\u001b[0m \u001b[0;34m\u001b[0m\u001b[0m\n\u001b[1;32m    577\u001b[0m     \u001b[0;32mif\u001b[0m \u001b[0mchunksize\u001b[0m \u001b[0;32mor\u001b[0m \u001b[0miterator\u001b[0m\u001b[0;34m:\u001b[0m\u001b[0;34m\u001b[0m\u001b[0;34m\u001b[0m\u001b[0m\n",
      "\u001b[0;32m~/anaconda3/lib/python3.8/site-packages/pandas/io/parsers/readers.py\u001b[0m in \u001b[0;36m__init__\u001b[0;34m(self, f, engine, **kwds)\u001b[0m\n\u001b[1;32m    930\u001b[0m \u001b[0;34m\u001b[0m\u001b[0m\n\u001b[1;32m    931\u001b[0m         \u001b[0mself\u001b[0m\u001b[0;34m.\u001b[0m\u001b[0mhandles\u001b[0m\u001b[0;34m:\u001b[0m \u001b[0mIOHandles\u001b[0m \u001b[0;34m|\u001b[0m \u001b[0;32mNone\u001b[0m \u001b[0;34m=\u001b[0m \u001b[0;32mNone\u001b[0m\u001b[0;34m\u001b[0m\u001b[0;34m\u001b[0m\u001b[0m\n\u001b[0;32m--> 932\u001b[0;31m         \u001b[0mself\u001b[0m\u001b[0;34m.\u001b[0m\u001b[0m_engine\u001b[0m \u001b[0;34m=\u001b[0m \u001b[0mself\u001b[0m\u001b[0;34m.\u001b[0m\u001b[0m_make_engine\u001b[0m\u001b[0;34m(\u001b[0m\u001b[0mf\u001b[0m\u001b[0;34m,\u001b[0m \u001b[0mself\u001b[0m\u001b[0;34m.\u001b[0m\u001b[0mengine\u001b[0m\u001b[0;34m)\u001b[0m\u001b[0;34m\u001b[0m\u001b[0;34m\u001b[0m\u001b[0m\n\u001b[0m\u001b[1;32m    933\u001b[0m \u001b[0;34m\u001b[0m\u001b[0m\n\u001b[1;32m    934\u001b[0m     \u001b[0;32mdef\u001b[0m \u001b[0mclose\u001b[0m\u001b[0;34m(\u001b[0m\u001b[0mself\u001b[0m\u001b[0;34m)\u001b[0m\u001b[0;34m:\u001b[0m\u001b[0;34m\u001b[0m\u001b[0;34m\u001b[0m\u001b[0m\n",
      "\u001b[0;32m~/anaconda3/lib/python3.8/site-packages/pandas/io/parsers/readers.py\u001b[0m in \u001b[0;36m_make_engine\u001b[0;34m(self, f, engine)\u001b[0m\n\u001b[1;32m   1214\u001b[0m             \u001b[0;31m# \"Union[str, PathLike[str], ReadCsvBuffer[bytes], ReadCsvBuffer[str]]\"\u001b[0m\u001b[0;34m\u001b[0m\u001b[0;34m\u001b[0m\u001b[0;34m\u001b[0m\u001b[0m\n\u001b[1;32m   1215\u001b[0m             \u001b[0;31m# , \"str\", \"bool\", \"Any\", \"Any\", \"Any\", \"Any\", \"Any\"\u001b[0m\u001b[0;34m\u001b[0m\u001b[0;34m\u001b[0m\u001b[0;34m\u001b[0m\u001b[0m\n\u001b[0;32m-> 1216\u001b[0;31m             self.handles = get_handle(  # type: ignore[call-overload]\n\u001b[0m\u001b[1;32m   1217\u001b[0m                 \u001b[0mf\u001b[0m\u001b[0;34m,\u001b[0m\u001b[0;34m\u001b[0m\u001b[0;34m\u001b[0m\u001b[0m\n\u001b[1;32m   1218\u001b[0m                 \u001b[0mmode\u001b[0m\u001b[0;34m,\u001b[0m\u001b[0;34m\u001b[0m\u001b[0;34m\u001b[0m\u001b[0m\n",
      "\u001b[0;32m~/anaconda3/lib/python3.8/site-packages/pandas/io/common.py\u001b[0m in \u001b[0;36mget_handle\u001b[0;34m(path_or_buf, mode, encoding, compression, memory_map, is_text, errors, storage_options)\u001b[0m\n\u001b[1;32m    784\u001b[0m         \u001b[0;32mif\u001b[0m \u001b[0mioargs\u001b[0m\u001b[0;34m.\u001b[0m\u001b[0mencoding\u001b[0m \u001b[0;32mand\u001b[0m \u001b[0;34m\"b\"\u001b[0m \u001b[0;32mnot\u001b[0m \u001b[0;32min\u001b[0m \u001b[0mioargs\u001b[0m\u001b[0;34m.\u001b[0m\u001b[0mmode\u001b[0m\u001b[0;34m:\u001b[0m\u001b[0;34m\u001b[0m\u001b[0;34m\u001b[0m\u001b[0m\n\u001b[1;32m    785\u001b[0m             \u001b[0;31m# Encoding\u001b[0m\u001b[0;34m\u001b[0m\u001b[0;34m\u001b[0m\u001b[0;34m\u001b[0m\u001b[0m\n\u001b[0;32m--> 786\u001b[0;31m             handle = open(\n\u001b[0m\u001b[1;32m    787\u001b[0m                 \u001b[0mhandle\u001b[0m\u001b[0;34m,\u001b[0m\u001b[0;34m\u001b[0m\u001b[0;34m\u001b[0m\u001b[0m\n\u001b[1;32m    788\u001b[0m                 \u001b[0mioargs\u001b[0m\u001b[0;34m.\u001b[0m\u001b[0mmode\u001b[0m\u001b[0;34m,\u001b[0m\u001b[0;34m\u001b[0m\u001b[0;34m\u001b[0m\u001b[0m\n",
      "\u001b[0;31mFileNotFoundError\u001b[0m: [Errno 2] No such file or directory: 'data.txt'"
     ]
    }
   ],
   "source": [
    "catapult = pd.read_csv('data.txt', delim_whitespace = True)"
   ]
  },
  {
   "cell_type": "code",
   "execution_count": 161,
   "metadata": {
    "colab": {
     "base_uri": "https://localhost:8080/",
     "height": 0
    },
    "id": "CiiTI5SZ0gt-",
    "outputId": "76b99a7d-7482-4542-a286-d70c238590f3"
   },
   "outputs": [
    {
     "data": {
      "text/plain": [
       "Index(['Front', 'Back', 'Fixed', 'Moving', 'Bucket'], dtype='object')"
      ]
     },
     "execution_count": 161,
     "metadata": {},
     "output_type": "execute_result"
    }
   ],
   "source": [
    "main_eff = catapult.columns.drop('Dist')\n",
    "main_eff"
   ]
  },
  {
   "cell_type": "code",
   "execution_count": 162,
   "metadata": {
    "colab": {
     "base_uri": "https://localhost:8080/",
     "height": 551
    },
    "id": "QaeanJAL19O8",
    "outputId": "57ecb0c9-e78a-4acd-9c2d-15bb38cc4281"
   },
   "outputs": [
    {
     "data": {
      "text/html": [
       "\n",
       "  <div id=\"df-336ddaf2-68fb-4976-a3a5-a9b36978553f\">\n",
       "    <div class=\"colab-df-container\">\n",
       "      <div>\n",
       "<style scoped>\n",
       "    .dataframe tbody tr th:only-of-type {\n",
       "        vertical-align: middle;\n",
       "    }\n",
       "\n",
       "    .dataframe tbody tr th {\n",
       "        vertical-align: top;\n",
       "    }\n",
       "\n",
       "    .dataframe thead th {\n",
       "        text-align: right;\n",
       "    }\n",
       "</style>\n",
       "<table border=\"1\" class=\"dataframe\">\n",
       "  <thead>\n",
       "    <tr style=\"text-align: right;\">\n",
       "      <th></th>\n",
       "      <th>Front</th>\n",
       "      <th>Back</th>\n",
       "      <th>Fixed</th>\n",
       "      <th>Moving</th>\n",
       "      <th>Bucket</th>\n",
       "      <th>Dist</th>\n",
       "    </tr>\n",
       "  </thead>\n",
       "  <tbody>\n",
       "    <tr>\n",
       "      <th>0</th>\n",
       "      <td>1</td>\n",
       "      <td>-1</td>\n",
       "      <td>-1</td>\n",
       "      <td>1</td>\n",
       "      <td>1</td>\n",
       "      <td>210.3</td>\n",
       "    </tr>\n",
       "    <tr>\n",
       "      <th>1</th>\n",
       "      <td>1</td>\n",
       "      <td>1</td>\n",
       "      <td>1</td>\n",
       "      <td>1</td>\n",
       "      <td>1</td>\n",
       "      <td>343.0</td>\n",
       "    </tr>\n",
       "    <tr>\n",
       "      <th>2</th>\n",
       "      <td>1</td>\n",
       "      <td>-1</td>\n",
       "      <td>-1</td>\n",
       "      <td>-1</td>\n",
       "      <td>-1</td>\n",
       "      <td>50.0</td>\n",
       "    </tr>\n",
       "    <tr>\n",
       "      <th>3</th>\n",
       "      <td>-1</td>\n",
       "      <td>-1</td>\n",
       "      <td>1</td>\n",
       "      <td>1</td>\n",
       "      <td>1</td>\n",
       "      <td>263.5</td>\n",
       "    </tr>\n",
       "    <tr>\n",
       "      <th>4</th>\n",
       "      <td>-1</td>\n",
       "      <td>-1</td>\n",
       "      <td>-1</td>\n",
       "      <td>1</td>\n",
       "      <td>-1</td>\n",
       "      <td>134.5</td>\n",
       "    </tr>\n",
       "    <tr>\n",
       "      <th>5</th>\n",
       "      <td>-1</td>\n",
       "      <td>-1</td>\n",
       "      <td>-1</td>\n",
       "      <td>-1</td>\n",
       "      <td>1</td>\n",
       "      <td>94.5</td>\n",
       "    </tr>\n",
       "    <tr>\n",
       "      <th>6</th>\n",
       "      <td>-1</td>\n",
       "      <td>1</td>\n",
       "      <td>-1</td>\n",
       "      <td>1</td>\n",
       "      <td>1</td>\n",
       "      <td>310.8</td>\n",
       "    </tr>\n",
       "    <tr>\n",
       "      <th>7</th>\n",
       "      <td>1</td>\n",
       "      <td>1</td>\n",
       "      <td>-1</td>\n",
       "      <td>-1</td>\n",
       "      <td>1</td>\n",
       "      <td>94.8</td>\n",
       "    </tr>\n",
       "    <tr>\n",
       "      <th>8</th>\n",
       "      <td>-1</td>\n",
       "      <td>1</td>\n",
       "      <td>-1</td>\n",
       "      <td>-1</td>\n",
       "      <td>-1</td>\n",
       "      <td>91.5</td>\n",
       "    </tr>\n",
       "    <tr>\n",
       "      <th>9</th>\n",
       "      <td>1</td>\n",
       "      <td>1</td>\n",
       "      <td>-1</td>\n",
       "      <td>1</td>\n",
       "      <td>-1</td>\n",
       "      <td>168.5</td>\n",
       "    </tr>\n",
       "    <tr>\n",
       "      <th>10</th>\n",
       "      <td>-1</td>\n",
       "      <td>1</td>\n",
       "      <td>1</td>\n",
       "      <td>-1</td>\n",
       "      <td>1</td>\n",
       "      <td>277.4</td>\n",
       "    </tr>\n",
       "    <tr>\n",
       "      <th>11</th>\n",
       "      <td>1</td>\n",
       "      <td>1</td>\n",
       "      <td>1</td>\n",
       "      <td>-1</td>\n",
       "      <td>-1</td>\n",
       "      <td>145.5</td>\n",
       "    </tr>\n",
       "    <tr>\n",
       "      <th>12</th>\n",
       "      <td>1</td>\n",
       "      <td>-1</td>\n",
       "      <td>1</td>\n",
       "      <td>-1</td>\n",
       "      <td>1</td>\n",
       "      <td>157.5</td>\n",
       "    </tr>\n",
       "    <tr>\n",
       "      <th>13</th>\n",
       "      <td>-1</td>\n",
       "      <td>1</td>\n",
       "      <td>1</td>\n",
       "      <td>1</td>\n",
       "      <td>-1</td>\n",
       "      <td>266.5</td>\n",
       "    </tr>\n",
       "    <tr>\n",
       "      <th>14</th>\n",
       "      <td>-1</td>\n",
       "      <td>-1</td>\n",
       "      <td>1</td>\n",
       "      <td>-1</td>\n",
       "      <td>-1</td>\n",
       "      <td>120.5</td>\n",
       "    </tr>\n",
       "    <tr>\n",
       "      <th>15</th>\n",
       "      <td>1</td>\n",
       "      <td>-1</td>\n",
       "      <td>1</td>\n",
       "      <td>1</td>\n",
       "      <td>-1</td>\n",
       "      <td>166.5</td>\n",
       "    </tr>\n",
       "  </tbody>\n",
       "</table>\n",
       "</div>\n",
       "      <button class=\"colab-df-convert\" onclick=\"convertToInteractive('df-336ddaf2-68fb-4976-a3a5-a9b36978553f')\"\n",
       "              title=\"Convert this dataframe to an interactive table.\"\n",
       "              style=\"display:none;\">\n",
       "        \n",
       "  <svg xmlns=\"http://www.w3.org/2000/svg\" height=\"24px\"viewBox=\"0 0 24 24\"\n",
       "       width=\"24px\">\n",
       "    <path d=\"M0 0h24v24H0V0z\" fill=\"none\"/>\n",
       "    <path d=\"M18.56 5.44l.94 2.06.94-2.06 2.06-.94-2.06-.94-.94-2.06-.94 2.06-2.06.94zm-11 1L8.5 8.5l.94-2.06 2.06-.94-2.06-.94L8.5 2.5l-.94 2.06-2.06.94zm10 10l.94 2.06.94-2.06 2.06-.94-2.06-.94-.94-2.06-.94 2.06-2.06.94z\"/><path d=\"M17.41 7.96l-1.37-1.37c-.4-.4-.92-.59-1.43-.59-.52 0-1.04.2-1.43.59L10.3 9.45l-7.72 7.72c-.78.78-.78 2.05 0 2.83L4 21.41c.39.39.9.59 1.41.59.51 0 1.02-.2 1.41-.59l7.78-7.78 2.81-2.81c.8-.78.8-2.07 0-2.86zM5.41 20L4 18.59l7.72-7.72 1.47 1.35L5.41 20z\"/>\n",
       "  </svg>\n",
       "      </button>\n",
       "      \n",
       "  <style>\n",
       "    .colab-df-container {\n",
       "      display:flex;\n",
       "      flex-wrap:wrap;\n",
       "      gap: 12px;\n",
       "    }\n",
       "\n",
       "    .colab-df-convert {\n",
       "      background-color: #E8F0FE;\n",
       "      border: none;\n",
       "      border-radius: 50%;\n",
       "      cursor: pointer;\n",
       "      display: none;\n",
       "      fill: #1967D2;\n",
       "      height: 32px;\n",
       "      padding: 0 0 0 0;\n",
       "      width: 32px;\n",
       "    }\n",
       "\n",
       "    .colab-df-convert:hover {\n",
       "      background-color: #E2EBFA;\n",
       "      box-shadow: 0px 1px 2px rgba(60, 64, 67, 0.3), 0px 1px 3px 1px rgba(60, 64, 67, 0.15);\n",
       "      fill: #174EA6;\n",
       "    }\n",
       "\n",
       "    [theme=dark] .colab-df-convert {\n",
       "      background-color: #3B4455;\n",
       "      fill: #D2E3FC;\n",
       "    }\n",
       "\n",
       "    [theme=dark] .colab-df-convert:hover {\n",
       "      background-color: #434B5C;\n",
       "      box-shadow: 0px 1px 3px 1px rgba(0, 0, 0, 0.15);\n",
       "      filter: drop-shadow(0px 1px 2px rgba(0, 0, 0, 0.3));\n",
       "      fill: #FFFFFF;\n",
       "    }\n",
       "  </style>\n",
       "\n",
       "      <script>\n",
       "        const buttonEl =\n",
       "          document.querySelector('#df-336ddaf2-68fb-4976-a3a5-a9b36978553f button.colab-df-convert');\n",
       "        buttonEl.style.display =\n",
       "          google.colab.kernel.accessAllowed ? 'block' : 'none';\n",
       "\n",
       "        async function convertToInteractive(key) {\n",
       "          const element = document.querySelector('#df-336ddaf2-68fb-4976-a3a5-a9b36978553f');\n",
       "          const dataTable =\n",
       "            await google.colab.kernel.invokeFunction('convertToInteractive',\n",
       "                                                     [key], {});\n",
       "          if (!dataTable) return;\n",
       "\n",
       "          const docLinkHtml = 'Like what you see? Visit the ' +\n",
       "            '<a target=\"_blank\" href=https://colab.research.google.com/notebooks/data_table.ipynb>data table notebook</a>'\n",
       "            + ' to learn more about interactive tables.';\n",
       "          element.innerHTML = '';\n",
       "          dataTable['output_type'] = 'display_data';\n",
       "          await google.colab.output.renderOutput(dataTable, element);\n",
       "          const docLink = document.createElement('div');\n",
       "          docLink.innerHTML = docLinkHtml;\n",
       "          element.appendChild(docLink);\n",
       "        }\n",
       "      </script>\n",
       "    </div>\n",
       "  </div>\n",
       "  "
      ],
      "text/plain": [
       "    Front  Back  Fixed  Moving  Bucket   Dist\n",
       "0       1    -1     -1       1       1  210.3\n",
       "1       1     1      1       1       1  343.0\n",
       "2       1    -1     -1      -1      -1   50.0\n",
       "3      -1    -1      1       1       1  263.5\n",
       "4      -1    -1     -1       1      -1  134.5\n",
       "5      -1    -1     -1      -1       1   94.5\n",
       "6      -1     1     -1       1       1  310.8\n",
       "7       1     1     -1      -1       1   94.8\n",
       "8      -1     1     -1      -1      -1   91.5\n",
       "9       1     1     -1       1      -1  168.5\n",
       "10     -1     1      1      -1       1  277.4\n",
       "11      1     1      1      -1      -1  145.5\n",
       "12      1    -1      1      -1       1  157.5\n",
       "13     -1     1      1       1      -1  266.5\n",
       "14     -1    -1      1      -1      -1  120.5\n",
       "15      1    -1      1       1      -1  166.5"
      ]
     },
     "execution_count": 162,
     "metadata": {},
     "output_type": "execute_result"
    }
   ],
   "source": [
    "catapult"
   ]
  },
  {
   "cell_type": "code",
   "execution_count": 163,
   "metadata": {
    "colab": {
     "base_uri": "https://localhost:8080/",
     "height": 0
    },
    "id": "oDUMXW_q2Du2",
    "outputId": "b172c91c-3be0-477a-b388-1b5d47baac53"
   },
   "outputs": [
    {
     "data": {
      "text/plain": [
       "{'Front': -27.88749999999999,\n",
       " 'Back': 62.587500000000006,\n",
       " 'Fixed': 73.1875,\n",
       " 'Moving': 103.98749999999998,\n",
       " 'Bucket': 76.0375}"
      ]
     },
     "execution_count": 163,
     "metadata": {},
     "output_type": "execute_result"
    }
   ],
   "source": [
    "effects = {}\n",
    "\n",
    "for eff in main_eff:\n",
    "    effects[eff] = np.mean(catapult[catapult[eff] == 1]['Dist']) - np.mean(catapult[catapult[eff] == -1]['Dist'])\n",
    "\n",
    "effects"
   ]
  },
  {
   "cell_type": "code",
   "execution_count": 164,
   "metadata": {
    "id": "c-bvfmPj2Mx0"
   },
   "outputs": [],
   "source": [
    "from itertools import combinations\n",
    "list_combinations = list()\n",
    "\n",
    "for n in range(len(main_eff) + 1):\n",
    "    list_combinations += list(combinations(main_eff, n))"
   ]
  },
  {
   "cell_type": "code",
   "execution_count": 165,
   "metadata": {
    "id": "pI0Cxayr4FKj"
   },
   "outputs": [],
   "source": [
    "interact = [i for i in list_combinations if len(i)  == 2]"
   ]
  },
  {
   "cell_type": "code",
   "execution_count": 166,
   "metadata": {
    "id": "v2ZSOuMb4G9D"
   },
   "outputs": [],
   "source": [
    "for inter in interact:\n",
    "    pos_effect = catapult[(catapult[inter[0]] == 1) & (catapult[inter[1]] == 1)]['Dist']\n",
    "    pos_neg_effect = catapult[(catapult[inter[0]] == 1) & (catapult[inter[1]] == -1)]['Dist']\n",
    "    neg_pos_effect = catapult[(catapult[inter[0]] == -1) & (catapult[inter[1]] == 1)]['Dist'] \n",
    "    neg_effect = catapult[(catapult[inter[0]] == -1) & (catapult[inter[1]] == -1)]['Dist']\n",
    "    effects[inter] = (np.mean(pos_effect) - np.mean(pos_neg_effect) - np.mean(neg_pos_effect) + np.mean(neg_effect))/2"
   ]
  },
  {
   "cell_type": "code",
   "execution_count": 167,
   "metadata": {
    "colab": {
     "base_uri": "https://localhost:8080/",
     "height": 0
    },
    "id": "XHH_xP9P5Rwd",
    "outputId": "500976de-a1ae-4415-e8ae-6042cd5e5c5e"
   },
   "outputs": [
    {
     "data": {
      "text/plain": [
       "{'Front': -27.88749999999999,\n",
       " 'Back': 62.587500000000006,\n",
       " 'Fixed': 73.1875,\n",
       " 'Moving': 103.98749999999998,\n",
       " 'Bucket': 76.0375,\n",
       " ('Front', 'Back'): -20.712500000000006,\n",
       " ('Front', 'Fixed'): -0.9625000000000057,\n",
       " ('Front', 'Moving'): 6.137500000000003,\n",
       " ('Front', 'Bucket'): -7.262500000000003,\n",
       " ('Back', 'Fixed'): 18.51250000000001,\n",
       " ('Back', 'Moving'): 15.912499999999994,\n",
       " ('Back', 'Bucket'): 12.462500000000006,\n",
       " ('Fixed', 'Moving'): -19.3375,\n",
       " ('Fixed', 'Bucket'): 9.562500000000014,\n",
       " ('Moving', 'Bucket'): 21.862499999999983}"
      ]
     },
     "execution_count": 167,
     "metadata": {},
     "output_type": "execute_result"
    }
   ],
   "source": [
    "effects"
   ]
  },
  {
   "cell_type": "code",
   "execution_count": 168,
   "metadata": {
    "id": "Y0xLSHt26gMv"
   },
   "outputs": [],
   "source": [
    "s0 = 1.5 * np.median(list(map(abs, effects.values())))"
   ]
  },
  {
   "cell_type": "code",
   "execution_count": 169,
   "metadata": {
    "id": "DmX5SsYXcmdD"
   },
   "outputs": [],
   "source": [
    "def get_PSE(c_list, s0):\n",
    "  med_list = []\n",
    "  for cj in c_list:\n",
    "    if np.abs(cj) < 2.5 * s0:\n",
    "      med_list.append(np.abs(cj))\n",
    "  return 1.5 * np.median(med_list)"
   ]
  },
  {
   "cell_type": "code",
   "execution_count": 170,
   "metadata": {
    "id": "nUCm8h7feFWk"
   },
   "outputs": [],
   "source": [
    "PSE = get_PSE(effects.values(), s0)"
   ]
  },
  {
   "cell_type": "code",
   "execution_count": 171,
   "metadata": {
    "id": "GKJHFo-BeI77"
   },
   "outputs": [],
   "source": [
    "t_stats = {}\n",
    "\n",
    "for eff in effects.keys():\n",
    "  t_stats[eff] = effects[eff] / PSE"
   ]
  },
  {
   "cell_type": "code",
   "execution_count": 172,
   "metadata": {
    "colab": {
     "base_uri": "https://localhost:8080/",
     "height": 0
    },
    "id": "rCp6_zxkeMMb",
    "outputId": "66d38c0e-f817-4392-f406-6723b00a6360"
   },
   "outputs": [
    {
     "data": {
      "text/plain": [
       "{'Front': -1.080125877511498,\n",
       " 'Back': 2.4241103848946985,\n",
       " 'Fixed': 2.8346647300895667,\n",
       " 'Moving': 4.027596223674654,\n",
       " 'Bucket': 2.9450496247881865,\n",
       " ('Front', 'Back'): -0.8022270636649723,\n",
       " ('Front', 'Fixed'): -0.03727910917453423,\n",
       " ('Front', 'Moving'): 0.23771483902202867,\n",
       " ('Front', 'Bucket'): -0.281287823771484,\n",
       " ('Back', 'Fixed'): 0.7170176712660377,\n",
       " ('Back', 'Moving'): 0.6163156620672958,\n",
       " ('Back', 'Bucket'): 0.48269184216896655,\n",
       " ('Fixed', 'Moving'): -0.7489711934156378,\n",
       " ('Fixed', 'Bucket'): 0.3703703703703709,\n",
       " ('Moving', 'Bucket'): 0.8467683369644147}"
      ]
     },
     "execution_count": 172,
     "metadata": {},
     "output_type": "execute_result"
    }
   ],
   "source": [
    "#find the t statistics\n",
    "t_stats"
   ]
  },
  {
   "cell_type": "code",
   "execution_count": 173,
   "metadata": {
    "id": "_I26h8fXePCU"
   },
   "outputs": [],
   "source": [
    "#find the p_values \n",
    "n = 16\n",
    "p_vals = {}\n",
    "for eff in effects.keys():\n",
    "  p_vals[eff] = (1 - t.cdf(abs(t_stats[eff]), df=(n - 1)/3))*2"
   ]
  },
  {
   "cell_type": "code",
   "execution_count": 174,
   "metadata": {
    "colab": {
     "base_uri": "https://localhost:8080/",
     "height": 0
    },
    "id": "ASPpVTy_hw2l",
    "outputId": "e56c9835-e5bc-4174-bd4e-0b7d21f51fa8"
   },
   "outputs": [
    {
     "data": {
      "text/plain": [
       "{'Front': 0.3294099342475638,\n",
       " 'Back': 0.059813387730317524,\n",
       " 'Fixed': 0.03647425206594668,\n",
       " 'Moving': 0.010045032094806894,\n",
       " 'Bucket': 0.032068581491171866,\n",
       " ('Front', 'Back'): 0.4588371186158433,\n",
       " ('Front', 'Fixed'): 0.9717050655713386,\n",
       " ('Front', 'Moving'): 0.8215361020566676,\n",
       " ('Front', 'Bucket'): 0.7897589884500309,\n",
       " ('Back', 'Fixed'): 0.505452463966575,\n",
       " ('Back', 'Moving'): 0.5646605580510182,\n",
       " ('Back', 'Bucket'): 0.6497059311457751,\n",
       " ('Fixed', 'Moving'): 0.48759176418446115,\n",
       " ('Fixed', 'Bucket'): 0.7262783317524306,\n",
       " ('Moving', 'Bucket'): 0.43576770470352333}"
      ]
     },
     "execution_count": 174,
     "metadata": {},
     "output_type": "execute_result"
    }
   ],
   "source": [
    "#find the p values\n",
    "p_vals"
   ]
  },
  {
   "cell_type": "markdown",
   "metadata": {
    "id": "3zQLtLA67wpr"
   },
   "source": [
    "Is it possible that the PSE would be the median of an empty set? If so,\n",
    "construct an example. If not, prove it cannot happen."
   ]
  },
  {
   "cell_type": "markdown",
   "metadata": {
    "id": "pUqc_luz6rxP"
   },
   "source": [
    "Yes, it is possible that the PSE would be the median of an empty set. Say we had three values in our effect (c1, c2, c3) = {0, 0, 0}. Then, the median would be 0 as well and s0 would be 0. In our PSE algorithm, we must check the condition : abs(cj) < 2.5*s0. If s0 is 0 and all the cj was 0 for all effects, then we would never have a case that cj < 0 and we would get that the PSE is the median of an empty set. "
   ]
  },
  {
   "cell_type": "code",
   "execution_count": null,
   "metadata": {
    "id": "zCu7NyZ0h0-p"
   },
   "outputs": [],
   "source": []
  }
 ],
 "metadata": {
  "colab": {
   "collapsed_sections": [],
   "provenance": []
  },
  "kernelspec": {
   "display_name": "Python 3 (ipykernel)",
   "language": "python",
   "name": "python3"
  },
  "language_info": {
   "codemirror_mode": {
    "name": "ipython",
    "version": 3
   },
   "file_extension": ".py",
   "mimetype": "text/x-python",
   "name": "python",
   "nbconvert_exporter": "python",
   "pygments_lexer": "ipython3",
   "version": "3.8.13"
  }
 },
 "nbformat": 4,
 "nbformat_minor": 1
}
