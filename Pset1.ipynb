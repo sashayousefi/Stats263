{
 "cells": [
  {
   "cell_type": "code",
   "execution_count": 131,
   "id": "77300386",
   "metadata": {},
   "outputs": [],
   "source": [
    "import numpy as np\n",
    "import pandas as pd\n",
    "import matplotlib.pyplot as plt"
   ]
  },
  {
   "cell_type": "markdown",
   "id": "66c7d281",
   "metadata": {},
   "source": [
    "## Question 1: worked with Jessica Houghton"
   ]
  },
  {
   "cell_type": "code",
   "execution_count": 132,
   "id": "7f417604",
   "metadata": {},
   "outputs": [],
   "source": [
    "colnames = ['Subject_id', 'Year', 'Antiseptic', 'Limb', 'Outcome']"
   ]
  },
  {
   "cell_type": "code",
   "execution_count": 133,
   "id": "09f16c24",
   "metadata": {},
   "outputs": [],
   "source": [
    "data = pd.read_csv(\"lister.dat.txt\", names = colnames, delim_whitespace=True)"
   ]
  },
  {
   "cell_type": "markdown",
   "id": "762f9e7b",
   "metadata": {},
   "source": [
    "### Part a"
   ]
  },
  {
   "cell_type": "code",
   "execution_count": 134,
   "id": "a2bd5030",
   "metadata": {},
   "outputs": [],
   "source": [
    "def lowerlimb_survival(df, print_val = False):\n",
    "    lowerlimb = df[df[\"Limb\"] == 1]\n",
    "    pre_antiseptic = lowerlimb[lowerlimb[\"Antiseptic\"] == 0]\n",
    "    post_antiseptic = lowerlimb[lowerlimb[\"Antiseptic\"] == 1]\n",
    "    survival_pre = np.sum(pre_antiseptic[\"Outcome\"])/pre_antiseptic.shape[0]\n",
    "    survival_post = np.sum(post_antiseptic[\"Outcome\"])/post_antiseptic.shape[0]\n",
    "    if print_val:\n",
    "        print(\"The survival rate for lower limb amputations in pre-antiseptic periods\" + \n",
    "              \" is = {}\".format(survival_pre))\n",
    "        print(\"The survival rate for lower limb amputations in post-antiseptic periods\" + \n",
    "              \" is = {}\".format(survival_post))\n",
    "        print(\"Delta (post_rate - pre_rate) is = {}\".format(survival_post - survival_pre))\n",
    "    return survival_post - survival_pre"
   ]
  },
  {
   "cell_type": "code",
   "execution_count": 135,
   "id": "95f0c55b",
   "metadata": {
    "scrolled": true
   },
   "outputs": [
    {
     "name": "stdout",
     "output_type": "stream",
     "text": [
      "The survival rate for lower limb amputations in pre-antiseptic periods is = 0.5\n",
      "The survival rate for lower limb amputations in post-antiseptic periods is = 0.9166666666666666\n",
      "Delta (post_rate - pre_rate) is = 0.41666666666666663\n"
     ]
    }
   ],
   "source": [
    "OG_survival = lowerlimb_survival(data, True)\n",
    "OG_survival;"
   ]
  },
  {
   "cell_type": "markdown",
   "id": "0ce48c2a",
   "metadata": {},
   "source": [
    "### Part b"
   ]
  },
  {
   "cell_type": "code",
   "execution_count": 190,
   "id": "63bc09ba",
   "metadata": {},
   "outputs": [],
   "source": [
    "data_limb = data[data[\"Limb\"] == 1]"
   ]
  },
  {
   "cell_type": "code",
   "execution_count": 191,
   "id": "ed7d667f",
   "metadata": {},
   "outputs": [],
   "source": [
    "deltas = np.array([])\n",
    "for i in np.arange(9999):\n",
    "    permute = np.random.permutation(data_limb['Antiseptic'])\n",
    "    permuted_data = data_limb.drop(['Antiseptic'], axis = 1)\n",
    "    permuted_data['Antiseptic'] = permute\n",
    "    deltas = np.append(deltas, lowerlimb_survival(permuted_data))"
   ]
  },
  {
   "cell_type": "code",
   "execution_count": 192,
   "id": "65c8b473",
   "metadata": {
    "scrolled": true
   },
   "outputs": [
    {
     "data": {
      "image/png": "[encoded data removed]",
      "text/plain": [
       "<Figure size 432x288 with 1 Axes>"
      ]
     },
     "metadata": {
      "needs_background": "light"
     },
     "output_type": "display_data"
    }
   ],
   "source": [
    "plt.vlines(OG_survival, 0, 3000, colors = 'red')\n",
    "plt.hist(deltas);"
   ]
  },
  {
   "cell_type": "code",
   "execution_count": 193,
   "id": "efdae4ad",
   "metadata": {},
   "outputs": [],
   "source": [
    "B = 9999"
   ]
  },
  {
   "cell_type": "code",
   "execution_count": 194,
   "id": "7c2ff43a",
   "metadata": {},
   "outputs": [
    {
     "name": "stdout",
     "output_type": "stream",
     "text": [
      "One sided p-value is = 0.0349\n"
     ]
    }
   ],
   "source": [
    "#get one sided p-value\n",
    "num = 1 + np.sum(deltas >= OG_survival)\n",
    "denom = 1 + B\n",
    "print(\"One sided p-value is = {}\".format(num/denom))"
   ]
  },
  {
   "cell_type": "code",
   "execution_count": 195,
   "id": "c2799135",
   "metadata": {
    "scrolled": false
   },
   "outputs": [
    {
     "name": "stdout",
     "output_type": "stream",
     "text": [
      "Two sided p-value is = 0.0687\n"
     ]
    }
   ],
   "source": [
    "#get two sided p-value\n",
    "num = 1 + np.sum(np.abs(deltas) >= np.abs(OG_survival))\n",
    "denom = 1 + B\n",
    "print(\"Two sided p-value is = {}\".format(num/denom))"
   ]
  },
  {
   "cell_type": "code",
   "execution_count": 189,
   "id": "f2661982",
   "metadata": {},
   "outputs": [
    {
     "name": "stdout",
     "output_type": "stream",
     "text": [
      "There would be 16777216 (2^24) permutations in this example. This is because the length of our lower-limb matrix is 24 and each spot has two options (1 or 0).\n"
     ]
    }
   ],
   "source": [
    "print(\"There would be {} (2^{}) permutations in this example. This is because the length of our \\\n",
    "lower-limb matrix is {} and each spot has two options (1 or 0).\"\n",
    "      .format(2**(data_limb.shape[0]), data_limb.shape[0], data_limb.shape[0]))"
   ]
  },
  {
   "cell_type": "markdown",
   "id": "0d13044f",
   "metadata": {},
   "source": [
    "### Part C "
   ]
  },
  {
   "cell_type": "code",
   "execution_count": 145,
   "id": "e62514d2",
   "metadata": {},
   "outputs": [],
   "source": [
    "data_subset = data[data[\"Limb\"] == 1]"
   ]
  },
  {
   "cell_type": "code",
   "execution_count": 146,
   "id": "8c46b8d9",
   "metadata": {},
   "outputs": [
    {
     "name": "stdout",
     "output_type": "stream",
     "text": [
      "Our chi squared p-value is = 0.07243809925044642\n"
     ]
    }
   ],
   "source": [
    "# chi-squared test\n",
    "data_crosstab = pd.crosstab(data_subset['Antiseptic'],\n",
    "                            data_subset['Outcome'], \n",
    "                               margins = False)\n",
    "chi2, p, dof, ex = chi2_contingency(data_crosstab)\n",
    "print(\"Our chi squared p-value is = {}\".format(p))"
   ]
  },
  {
   "cell_type": "markdown",
   "id": "5aa2289e",
   "metadata": {},
   "source": [
    "### Part D"
   ]
  },
  {
   "cell_type": "markdown",
   "id": "bea014c1",
   "metadata": {},
   "source": [
    "Violates SUTVA assumption that for each unit, there are no different forms or versions of each treatment level, which lead to different potential outcomes. The Antiseptic column in the data table is simply binary for Antiseptic period or not antiseptic period. The column doesn't actually indicate whether an antiseptic was used. If there were an antiseptic used, it doesn't indicate the dosage, type, or for how long. Additionally, there is a variety in skill set and equipment used by each doctor. Lastly, the study is time dependent as it varies from 1864 to 1869 (pre and post antiseptic era). There could have been a variety of technological advancements made during that which are not related to antiseptics. Thus, there could be confounding factors that lowered the mortality rate in lower leg amputees. "
   ]
  },
  {
   "cell_type": "markdown",
   "id": "4c058c6b",
   "metadata": {},
   "source": [
    "## Question 3 (did the original vesion of the question)"
   ]
  },
  {
   "cell_type": "code",
   "execution_count": 198,
   "id": "47b2ce20",
   "metadata": {},
   "outputs": [],
   "source": [
    "alpha = beta = 0.001\n",
    "n = 10000\n",
    "theta0 = 0.01\n",
    "theta1 = 0.02"
   ]
  },
  {
   "cell_type": "code",
   "execution_count": 199,
   "id": "7dc7e48d",
   "metadata": {},
   "outputs": [],
   "source": [
    "def LLR(data, n, theta0, theta1):\n",
    "    return data * np.log((theta1*(1 - theta0))/(theta0*(1 - theta1))) + n \\\n",
    "        * np.log((1 - theta1)/(1 - theta0))"
   ]
  },
  {
   "cell_type": "code",
   "execution_count": 200,
   "id": "bb8f7fed",
   "metadata": {},
   "outputs": [],
   "source": [
    "def SPRT(n, true_theta, alpha, beta):\n",
    "    data = 0\n",
    "    h1_accept = False\n",
    "    for i in np.arange(1, n+1):\n",
    "        llr = LLR(data, i, 0.01, 0.02)\n",
    "        if llr >= np.log((1 - beta)/alpha):\n",
    "            h1_accept = True\n",
    "            return i, h1_accept\n",
    "        elif llr <= np.log(beta/(1 - alpha)):\n",
    "            return i, h1_accept\n",
    "        data += np.random.binomial(1, true_theta)\n",
    "    return n, h1_accept"
   ]
  },
  {
   "cell_type": "code",
   "execution_count": 201,
   "id": "f7f34e1d",
   "metadata": {},
   "outputs": [],
   "source": [
    "time = np.array([])\n",
    "h1_correct = 0 \n",
    "for i in np.arange(1000):\n",
    "    sprt = SPRT(10000, 0.02, alpha, beta)\n",
    "    time = np.append(time, sprt[0])\n",
    "    h1_correct += int(sprt[1])\n",
    "error_count = 1000 - h1_correct"
   ]
  },
  {
   "cell_type": "markdown",
   "id": "5a9ad55e",
   "metadata": {},
   "source": [
    "### Part B"
   ]
  },
  {
   "cell_type": "code",
   "execution_count": 202,
   "id": "49e3fcbe",
   "metadata": {},
   "outputs": [
    {
     "data": {
      "image/png": "[encoded data removed]",
      "text/plain": [
       "<Figure size 432x288 with 1 Axes>"
      ]
     },
     "metadata": {
      "needs_background": "light"
     },
     "output_type": "display_data"
    }
   ],
   "source": [
    "plt.hist(time);"
   ]
  },
  {
   "cell_type": "code",
   "execution_count": 203,
   "id": "d2ff5cca",
   "metadata": {},
   "outputs": [
    {
     "name": "stdout",
     "output_type": "stream",
     "text": [
      "The number of errors when the true theta = 0.02 is and alpha = beta = 0.001 is 1.\n"
     ]
    }
   ],
   "source": [
    "print(\"The number of errors when the true theta = {} is and alpha = beta = {} is {}.\".format(0.02, alpha, error_count))"
   ]
  },
  {
   "cell_type": "markdown",
   "id": "c8b8be1e",
   "metadata": {},
   "source": [
    "### Part C"
   ]
  },
  {
   "cell_type": "code",
   "execution_count": 204,
   "id": "6de9dcf7",
   "metadata": {},
   "outputs": [],
   "source": [
    "alpha = beta = 0.05\n",
    "time = np.array([])\n",
    "h1_correct = 0 \n",
    "for i in np.arange(1000):\n",
    "    sprt = SPRT(10000, 0.02, alpha, beta)\n",
    "    time = np.append(time, sprt[0])\n",
    "    h1_correct += int(sprt[1])\n",
    "error_count = 1000 - h1_correct"
   ]
  },
  {
   "cell_type": "code",
   "execution_count": 205,
   "id": "1a6d8cd7",
   "metadata": {},
   "outputs": [
    {
     "data": {
      "image/png": "[encoded data removed]",
      "text/plain": [
       "<Figure size 432x288 with 1 Axes>"
      ]
     },
     "metadata": {
      "needs_background": "light"
     },
     "output_type": "display_data"
    }
   ],
   "source": [
    "plt.hist(time);"
   ]
  },
  {
   "cell_type": "code",
   "execution_count": 206,
   "id": "789d702b",
   "metadata": {},
   "outputs": [
    {
     "name": "stdout",
     "output_type": "stream",
     "text": [
      "The number of errors when the true theta = 0.02 is and alpha = beta = 0.05 is 52.\n"
     ]
    }
   ],
   "source": [
    "print(\"The number of errors when the true theta = {} is and alpha = beta = {} is {}.\".format(0.02, alpha, error_count))"
   ]
  },
  {
   "cell_type": "markdown",
   "id": "9c9b8d3a",
   "metadata": {},
   "source": [
    "### Part D"
   ]
  },
  {
   "cell_type": "code",
   "execution_count": 207,
   "id": "78520d41",
   "metadata": {},
   "outputs": [],
   "source": [
    "alpha = beta = 0.001\n",
    "time = np.array([])\n",
    "h1_picked = 0 \n",
    "for i in np.arange(1000):\n",
    "    sprt = SPRT(10000, 0.015, alpha, beta)\n",
    "    time = np.append(time, sprt[0])\n",
    "    h1_picked += int(sprt[1])\n",
    "h0_picked = 1000 - h1_picked"
   ]
  },
  {
   "cell_type": "code",
   "execution_count": 208,
   "id": "0420ce0a",
   "metadata": {},
   "outputs": [
    {
     "data": {
      "image/png": "[encoded data removed]",
      "text/plain": [
       "<Figure size 432x288 with 1 Axes>"
      ]
     },
     "metadata": {
      "needs_background": "light"
     },
     "output_type": "display_data"
    }
   ],
   "source": [
    "plt.hist(time);"
   ]
  },
  {
   "cell_type": "code",
   "execution_count": 209,
   "id": "998ad054",
   "metadata": {},
   "outputs": [
    {
     "name": "stdout",
     "output_type": "stream",
     "text": [
      "The number of times SPRT picked h1 = 531 and h0 = 469 when alpha = beta = 0.001 and the true theta = 0.015.\n"
     ]
    }
   ],
   "source": [
    "print(\"The number of times SPRT picked h1 = {} and h0 = {} when alpha = beta = {} and \\\n",
    "the true theta = {}.\".format(h1_picked, h0_picked, alpha, 0.015))"
   ]
  },
  {
   "cell_type": "code",
   "execution_count": null,
   "id": "2363219e",
   "metadata": {},
   "outputs": [],
   "source": []
  },
  {
   "cell_type": "code",
   "execution_count": null,
   "id": "f7c4e692",
   "metadata": {},
   "outputs": [],
   "source": []
  }
 ],
 "metadata": {
  "kernelspec": {
   "display_name": "Python 3 (ipykernel)",
   "language": "python",
   "name": "python3"
  },
  "language_info": {
   "codemirror_mode": {
    "name": "ipython",
    "version": 3
   },
   "file_extension": ".py",
   "mimetype": "text/x-python",
   "name": "python",
   "nbconvert_exporter": "python",
   "pygments_lexer": "ipython3",
   "version": "3.8.12"
  }
 },
 "nbformat": 4,
 "nbformat_minor": 5
}
