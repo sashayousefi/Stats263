{
 "cells": [
  {
   "cell_type": "markdown",
   "id": "563d90a1",
   "metadata": {},
   "source": [
    "## Question 3"
   ]
  },
  {
   "cell_type": "code",
   "execution_count": 27,
   "id": "fb8bc1bd",
   "metadata": {
    "scrolled": true
   },
   "outputs": [
    {
     "data": {
      "text/html": [
       "<table class=\"dataframe\">\n",
       "<caption>A data.frame: 9 × 4</caption>\n",
       "<thead>\n",
       "\t<tr><th scope=col>treat</th><th scope=col>fertil</th><th scope=col>seed</th><th scope=col>freq</th></tr>\n",
       "\t<tr><th scope=col>&lt;chr&gt;</th><th scope=col>&lt;chr&gt;</th><th scope=col>&lt;chr&gt;</th><th scope=col>&lt;dbl&gt;</th></tr>\n",
       "</thead>\n",
       "<tbody>\n",
       "\t<tr><td>treat1</td><td>fertil1</td><td>A</td><td>25.11</td></tr>\n",
       "\t<tr><td>treat1</td><td>fertil2</td><td>C</td><td>22.90</td></tr>\n",
       "\t<tr><td>treat1</td><td>fertil3</td><td>B</td><td>25.94</td></tr>\n",
       "\t<tr><td>treat2</td><td>fertil1</td><td>B</td><td>24.80</td></tr>\n",
       "\t<tr><td>treat2</td><td>fertil2</td><td>A</td><td>21.97</td></tr>\n",
       "\t<tr><td>treat2</td><td>fertil3</td><td>C</td><td>27.41</td></tr>\n",
       "\t<tr><td>treat3</td><td>fertil1</td><td>C</td><td>11.01</td></tr>\n",
       "\t<tr><td>treat3</td><td>fertil2</td><td>B</td><td> 9.46</td></tr>\n",
       "\t<tr><td>treat3</td><td>fertil3</td><td>A</td><td> 9.77</td></tr>\n",
       "</tbody>\n",
       "</table>\n"
      ],
      "text/latex": [
       "A data.frame: 9 × 4\n",
       "\\begin{tabular}{llll}\n",
       " treat & fertil & seed & freq\\\\\n",
       " <chr> & <chr> & <chr> & <dbl>\\\\\n",
       "\\hline\n",
       "\t treat1 & fertil1 & A & 25.11\\\\\n",
       "\t treat1 & fertil2 & C & 22.90\\\\\n",
       "\t treat1 & fertil3 & B & 25.94\\\\\n",
       "\t treat2 & fertil1 & B & 24.80\\\\\n",
       "\t treat2 & fertil2 & A & 21.97\\\\\n",
       "\t treat2 & fertil3 & C & 27.41\\\\\n",
       "\t treat3 & fertil1 & C & 11.01\\\\\n",
       "\t treat3 & fertil2 & B &  9.46\\\\\n",
       "\t treat3 & fertil3 & A &  9.77\\\\\n",
       "\\end{tabular}\n"
      ],
      "text/markdown": [
       "\n",
       "A data.frame: 9 × 4\n",
       "\n",
       "| treat &lt;chr&gt; | fertil &lt;chr&gt; | seed &lt;chr&gt; | freq &lt;dbl&gt; |\n",
       "|---|---|---|---|\n",
       "| treat1 | fertil1 | A | 25.11 |\n",
       "| treat1 | fertil2 | C | 22.90 |\n",
       "| treat1 | fertil3 | B | 25.94 |\n",
       "| treat2 | fertil1 | B | 24.80 |\n",
       "| treat2 | fertil2 | A | 21.97 |\n",
       "| treat2 | fertil3 | C | 27.41 |\n",
       "| treat3 | fertil1 | C | 11.01 |\n",
       "| treat3 | fertil2 | B |  9.46 |\n",
       "| treat3 | fertil3 | A |  9.77 |\n",
       "\n"
      ],
      "text/plain": [
       "  treat  fertil  seed freq \n",
       "1 treat1 fertil1 A    25.11\n",
       "2 treat1 fertil2 C    22.90\n",
       "3 treat1 fertil3 B    25.94\n",
       "4 treat2 fertil1 B    24.80\n",
       "5 treat2 fertil2 A    21.97\n",
       "6 treat2 fertil3 C    27.41\n",
       "7 treat3 fertil1 C    11.01\n",
       "8 treat3 fertil2 B     9.46\n",
       "9 treat3 fertil3 A     9.77"
      ]
     },
     "metadata": {},
     "output_type": "display_data"
    }
   ],
   "source": [
    "fertil <- c(rep(\"fertil1\",1), rep(\"fertil2\",1), rep(\"fertil3\",1))\n",
    "treat <- c(rep(\"treat1\",3), rep(\"treat2\",3), rep(\"treat3\",3))\n",
    "seed <- c(\"A\",\"C\",\"B\",\"B\",\"A\",\"C\",\"C\",\"B\",\"A\")\n",
    "freq <- c(25.11, 22.9, 25.94, 24.8, 21.97, 27.41, 11.01, 9.46, 9.77)\n",
    " \n",
    "mydata <- data.frame(treat, fertil, seed, freq)\n",
    "\n",
    "mydata"
   ]
  },
  {
   "cell_type": "code",
   "execution_count": 28,
   "id": "66208657",
   "metadata": {},
   "outputs": [
    {
     "data": {
      "text/html": [
       "<table class=\"dataframe\">\n",
       "<caption>A matrix: 3 × 3 of type dbl</caption>\n",
       "<tbody>\n",
       "\t<tr><td>25.11</td><td>24.80</td><td>11.01</td></tr>\n",
       "\t<tr><td>22.90</td><td>21.97</td><td> 9.46</td></tr>\n",
       "\t<tr><td>25.94</td><td>27.41</td><td> 9.77</td></tr>\n",
       "</tbody>\n",
       "</table>\n"
      ],
      "text/latex": [
       "A matrix: 3 × 3 of type dbl\n",
       "\\begin{tabular}{lll}\n",
       "\t 25.11 & 24.80 & 11.01\\\\\n",
       "\t 22.90 & 21.97 &  9.46\\\\\n",
       "\t 25.94 & 27.41 &  9.77\\\\\n",
       "\\end{tabular}\n"
      ],
      "text/markdown": [
       "\n",
       "A matrix: 3 × 3 of type dbl\n",
       "\n",
       "| 25.11 | 24.80 | 11.01 |\n",
       "| 22.90 | 21.97 |  9.46 |\n",
       "| 25.94 | 27.41 |  9.77 |\n",
       "\n"
      ],
      "text/plain": [
       "     [,1]  [,2]  [,3] \n",
       "[1,] 25.11 24.80 11.01\n",
       "[2,] 22.90 21.97  9.46\n",
       "[3,] 25.94 27.41  9.77"
      ]
     },
     "metadata": {},
     "output_type": "display_data"
    }
   ],
   "source": [
    "matrix(mydata$freq, 3,3)"
   ]
  },
  {
   "cell_type": "code",
   "execution_count": 29,
   "id": "11230a75",
   "metadata": {},
   "outputs": [
    {
     "data": {
      "text/html": [
       "<table class=\"dataframe\">\n",
       "<caption>A anova: 4 × 5</caption>\n",
       "<thead>\n",
       "\t<tr><th></th><th scope=col>Df</th><th scope=col>Sum Sq</th><th scope=col>Mean Sq</th><th scope=col>F value</th><th scope=col>Pr(&gt;F)</th></tr>\n",
       "\t<tr><th></th><th scope=col>&lt;int&gt;</th><th scope=col>&lt;dbl&gt;</th><th scope=col>&lt;dbl&gt;</th><th scope=col>&lt;dbl&gt;</th><th scope=col>&lt;dbl&gt;</th></tr>\n",
       "</thead>\n",
       "<tbody>\n",
       "\t<tr><th scope=row>fertil</th><td>2</td><td> 13.948022</td><td>  6.974011</td><td>  3.946784</td><td>0.202151541</td></tr>\n",
       "\t<tr><th scope=row>treat</th><td>2</td><td>426.815622</td><td>213.407811</td><td>120.773327</td><td>0.008211979</td></tr>\n",
       "\t<tr><th scope=row>seed</th><td>2</td><td>  3.606422</td><td>  1.803211</td><td>  1.020487</td><td>0.494930288</td></tr>\n",
       "\t<tr><th scope=row>Residuals</th><td>2</td><td>  3.534022</td><td>  1.767011</td><td>        NA</td><td>         NA</td></tr>\n",
       "</tbody>\n",
       "</table>\n"
      ],
      "text/latex": [
       "A anova: 4 × 5\n",
       "\\begin{tabular}{r|lllll}\n",
       "  & Df & Sum Sq & Mean Sq & F value & Pr(>F)\\\\\n",
       "  & <int> & <dbl> & <dbl> & <dbl> & <dbl>\\\\\n",
       "\\hline\n",
       "\tfertil & 2 &  13.948022 &   6.974011 &   3.946784 & 0.202151541\\\\\n",
       "\ttreat & 2 & 426.815622 & 213.407811 & 120.773327 & 0.008211979\\\\\n",
       "\tseed & 2 &   3.606422 &   1.803211 &   1.020487 & 0.494930288\\\\\n",
       "\tResiduals & 2 &   3.534022 &   1.767011 &         NA &          NA\\\\\n",
       "\\end{tabular}\n"
      ],
      "text/markdown": [
       "\n",
       "A anova: 4 × 5\n",
       "\n",
       "| <!--/--> | Df &lt;int&gt; | Sum Sq &lt;dbl&gt; | Mean Sq &lt;dbl&gt; | F value &lt;dbl&gt; | Pr(&gt;F) &lt;dbl&gt; |\n",
       "|---|---|---|---|---|---|\n",
       "| fertil | 2 |  13.948022 |   6.974011 |   3.946784 | 0.202151541 |\n",
       "| treat | 2 | 426.815622 | 213.407811 | 120.773327 | 0.008211979 |\n",
       "| seed | 2 |   3.606422 |   1.803211 |   1.020487 | 0.494930288 |\n",
       "| Residuals | 2 |   3.534022 |   1.767011 |         NA |          NA |\n",
       "\n"
      ],
      "text/plain": [
       "          Df Sum Sq     Mean Sq    F value    Pr(>F)     \n",
       "fertil    2   13.948022   6.974011   3.946784 0.202151541\n",
       "treat     2  426.815622 213.407811 120.773327 0.008211979\n",
       "seed      2    3.606422   1.803211   1.020487 0.494930288\n",
       "Residuals 2    3.534022   1.767011         NA          NA"
      ]
     },
     "metadata": {},
     "output_type": "display_data"
    }
   ],
   "source": [
    "myfit <- lm(freq ~ fertil+treat+seed, mydata)\n",
    "anova(myfit)"
   ]
  },
  {
   "cell_type": "markdown",
   "id": "7280aeb7",
   "metadata": {},
   "source": [
    "If we follow the example in the provided link, the row would be the fertilizer, the col would be the tillage (treatment), and the entries in the matrix would be the seed. "
   ]
  },
  {
   "cell_type": "code",
   "execution_count": null,
   "id": "7aedbf56",
   "metadata": {},
   "outputs": [],
   "source": []
  }
 ],
 "metadata": {
  "kernelspec": {
   "display_name": "R",
   "language": "R",
   "name": "ir"
  },
  "language_info": {
   "codemirror_mode": "r",
   "file_extension": ".r",
   "mimetype": "text/x-r-source",
   "name": "R",
   "pygments_lexer": "r",
   "version": "4.1.2"
  }
 },
 "nbformat": 4,
 "nbformat_minor": 5
}
